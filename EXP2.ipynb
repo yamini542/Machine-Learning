{
  "nbformat": 4,
  "nbformat_minor": 0,
  "metadata": {
    "colab": {
      "provenance": [],
      "authorship_tag": "ABX9TyNOwsWd7yzLxRWnxDrQ+nc0",
      "include_colab_link": true
    },
    "kernelspec": {
      "name": "python3",
      "display_name": "Python 3"
    },
    "language_info": {
      "name": "python"
    }
  },
  "cells": [
    {
      "cell_type": "markdown",
      "metadata": {
        "id": "view-in-github",
        "colab_type": "text"
      },
      "source": [
        "<a href=\"https://colab.research.google.com/github/yamini542/Machine-Learning/blob/main/EXP2.ipynb\" target=\"_parent\"><img src=\"https://colab.research.google.com/assets/colab-badge.svg\" alt=\"Open In Colab\"/></a>"
      ]
    },
    {
      "cell_type": "markdown",
      "source": [
        "#EXP2: Prediction of air pollution levels: To predict the air pollution level (AQI value) based on various factors such as CO AQI Category, Ozone AQI Value, Ozone AQI Category, NO2 AQI Value, NO2 AQI Category, PM2.5 AQI Value, and PM2.5.\n",
        "\n",
        "Regression Problem \n",
        "!.Linear Regression\n"
      ],
      "metadata": {
        "id": "KgbNzbtBnj0-"
      }
    },
    {
      "cell_type": "code",
      "execution_count": 3,
      "metadata": {
        "id": "y3J1_pPbnTXt"
      },
      "outputs": [],
      "source": [
        "import pandas as pd\n",
        "import numpy as np\n",
        "from sklearn.linear_model import LogisticRegression\n",
        "from sklearn.naive_bayes import MultinomialNB,GaussianNB\n",
        "from sklearn.model_selection import train_test_split\n",
        "from sklearn.metrics import accuracy_score, recall_score,precision_score, f1_score\n",
        "import matplotlib.pyplot as plt\n",
        "import seaborn as sns\n"
      ]
    },
    {
      "cell_type": "markdown",
      "source": [],
      "metadata": {
        "id": "-UNpTyCpnhXF"
      }
    },
    {
      "cell_type": "code",
      "source": [
        "!pip install --upgrade --q --no-cache-dir gdown\n",
        "!gdown 1dLK4IlONo0MYN6tTwjcK_fgVyQysiJ51"
      ],
      "metadata": {
        "colab": {
          "base_uri": "https://localhost:8080/"
        },
        "id": "ogR-yU7RnzZC",
        "outputId": "1f3c1af7-6fd1-498c-b308-fc0f4433ed84"
      },
      "execution_count": 1,
      "outputs": [
        {
          "output_type": "stream",
          "name": "stdout",
          "text": [
            "Downloading...\n",
            "From: https://drive.google.com/uc?id=1dLK4IlONo0MYN6tTwjcK_fgVyQysiJ51\n",
            "To: /content/global air pollution dataset.csv\n",
            "\r  0% 0.00/1.63M [00:00<?, ?B/s]\r100% 1.63M/1.63M [00:00<00:00, 30.7MB/s]\n"
          ]
        }
      ]
    },
    {
      "cell_type": "code",
      "source": [
        "df=pd.read_csv('global air pollution dataset.csv')\n"
      ],
      "metadata": {
        "id": "CeBCTBlinz_d"
      },
      "execution_count": 4,
      "outputs": []
    },
    {
      "cell_type": "code",
      "source": [
        "df.info()"
      ],
      "metadata": {
        "colab": {
          "base_uri": "https://localhost:8080/"
        },
        "id": "53y8kqgrn2IW",
        "outputId": "d25fa9a0-d7d1-4356-f158-f3a81ec63329"
      },
      "execution_count": 5,
      "outputs": [
        {
          "output_type": "stream",
          "name": "stdout",
          "text": [
            "<class 'pandas.core.frame.DataFrame'>\n",
            "RangeIndex: 23463 entries, 0 to 23462\n",
            "Data columns (total 12 columns):\n",
            " #   Column              Non-Null Count  Dtype \n",
            "---  ------              --------------  ----- \n",
            " 0   Country             23036 non-null  object\n",
            " 1   City                23462 non-null  object\n",
            " 2   AQI Value           23463 non-null  int64 \n",
            " 3   AQI Category        23463 non-null  object\n",
            " 4   CO AQI Value        23463 non-null  int64 \n",
            " 5   CO AQI Category     23463 non-null  object\n",
            " 6   Ozone AQI Value     23463 non-null  int64 \n",
            " 7   Ozone AQI Category  23463 non-null  object\n",
            " 8   NO2 AQI Value       23463 non-null  int64 \n",
            " 9   NO2 AQI Category    23463 non-null  object\n",
            " 10  PM2.5 AQI Value     23463 non-null  int64 \n",
            " 11  PM2.5 AQI Category  23463 non-null  object\n",
            "dtypes: int64(5), object(7)\n",
            "memory usage: 2.1+ MB\n"
          ]
        }
      ]
    },
    {
      "cell_type": "code",
      "source": [],
      "metadata": {
        "id": "Skd1DvWZn9h1"
      },
      "execution_count": null,
      "outputs": []
    }
  ]
}