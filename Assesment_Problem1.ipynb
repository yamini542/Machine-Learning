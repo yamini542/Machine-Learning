{
  "nbformat": 4,
  "nbformat_minor": 0,
  "metadata": {
    "colab": {
      "provenance": [],
      "name": "Assesment_Problem1.ipynb",
      "authorship_tag": "ABX9TyO3yHkiXgpB/B6eAkgkwKbW",
      "include_colab_link": true
    },
    "kernelspec": {
      "name": "python3",
      "display_name": "Python 3"
    },
    "language_info": {
      "name": "python"
    }
  },
  "cells": [
    {
      "cell_type": "markdown",
      "metadata": {
        "id": "view-in-github",
        "colab_type": "text"
      },
      "source": [
        "<a href=\"https://colab.research.google.com/github/yamini542/Machine-Learning/blob/main/Assesment_Problem1.ipynb\" target=\"_parent\"><img src=\"https://colab.research.google.com/assets/colab-badge.svg\" alt=\"Open In Colab\"/></a>"
      ]
    },
    {
      "cell_type": "code",
      "execution_count": 12,
      "metadata": {
        "id": "l_P0ZppRvYYn"
      },
      "outputs": [],
      "source": [
        "#import necessary librabires and the data set \n",
        "#https://github.com/yamini542/Machine-Learning/blob/main/global%20air%20pollution%20dataset.csv\n",
        "\n",
        "import pandas as pd\n",
        "import numpy as np\n",
        "\n",
        "from numpy import loadtxt\n",
        "import xgboost as xgb\n",
        "from sklearn.model_selection import train_test_split\n",
        "from sklearn.metrics import accuracy_score, roc_auc_score, make_scorer\n",
        "from sklearn.model_selection import GridSearchCV\n",
        "from sklearn.metrics import confusion_matrix\n",
        "from sklearn.metrics import plot_confusion_matrix\n",
        "\n",
        "\n",
        "\n",
        "\n"
      ]
    },
    {
      "cell_type": "markdown",
      "source": [
        "# New section"
      ],
      "metadata": {
        "id": "5N01Z3Gb0pCp"
      }
    },
    {
      "cell_type": "code",
      "source": [
        "df=pd.read_csv('/global air pollution dataset.csv')\n",
        "#load the dataset"
      ],
      "metadata": {
        "id": "dDu-7NLC9q-i"
      },
      "execution_count": 13,
      "outputs": []
    },
    {
      "cell_type": "markdown",
      "source": [
        "# New section"
      ],
      "metadata": {
        "id": "a7CquPCI0t-I"
      }
    },
    {
      "cell_type": "code",
      "source": [
        "df.head()"
      ],
      "metadata": {
        "colab": {
          "base_uri": "https://localhost:8080/",
          "height": 320
        },
        "id": "3ESI5abv-WHo",
        "outputId": "2663f47e-08d0-4869-983e-82eb97e8a890"
      },
      "execution_count": 14,
      "outputs": [
        {
          "output_type": "execute_result",
          "data": {
            "text/plain": [
              "              Country              City  AQI Value AQI Category  CO AQI Value  \\\n",
              "0  Russian Federation        Praskoveya         51     Moderate             1   \n",
              "1              Brazil  Presidente Dutra         41         Good             1   \n",
              "2               Italy   Priolo Gargallo         66     Moderate             1   \n",
              "3              Poland         Przasnysz         34         Good             1   \n",
              "4              France          Punaauia         22         Good             0   \n",
              "\n",
              "  CO AQI Category  Ozone AQI Value Ozone AQI Category  NO2 AQI Value  \\\n",
              "0            Good               36               Good              0   \n",
              "1            Good                5               Good              1   \n",
              "2            Good               39               Good              2   \n",
              "3            Good               34               Good              0   \n",
              "4            Good               22               Good              0   \n",
              "\n",
              "  NO2 AQI Category  PM2.5 AQI Value PM2.5 AQI Category  \n",
              "0             Good               51           Moderate  \n",
              "1             Good               41               Good  \n",
              "2             Good               66           Moderate  \n",
              "3             Good               20               Good  \n",
              "4             Good                6               Good  "
            ],
            "text/html": [
              "\n",
              "  <div id=\"df-639e89c9-22fd-44b5-96f0-11f1e44a28f6\">\n",
              "    <div class=\"colab-df-container\">\n",
              "      <div>\n",
              "<style scoped>\n",
              "    .dataframe tbody tr th:only-of-type {\n",
              "        vertical-align: middle;\n",
              "    }\n",
              "\n",
              "    .dataframe tbody tr th {\n",
              "        vertical-align: top;\n",
              "    }\n",
              "\n",
              "    .dataframe thead th {\n",
              "        text-align: right;\n",
              "    }\n",
              "</style>\n",
              "<table border=\"1\" class=\"dataframe\">\n",
              "  <thead>\n",
              "    <tr style=\"text-align: right;\">\n",
              "      <th></th>\n",
              "      <th>Country</th>\n",
              "      <th>City</th>\n",
              "      <th>AQI Value</th>\n",
              "      <th>AQI Category</th>\n",
              "      <th>CO AQI Value</th>\n",
              "      <th>CO AQI Category</th>\n",
              "      <th>Ozone AQI Value</th>\n",
              "      <th>Ozone AQI Category</th>\n",
              "      <th>NO2 AQI Value</th>\n",
              "      <th>NO2 AQI Category</th>\n",
              "      <th>PM2.5 AQI Value</th>\n",
              "      <th>PM2.5 AQI Category</th>\n",
              "    </tr>\n",
              "  </thead>\n",
              "  <tbody>\n",
              "    <tr>\n",
              "      <th>0</th>\n",
              "      <td>Russian Federation</td>\n",
              "      <td>Praskoveya</td>\n",
              "      <td>51</td>\n",
              "      <td>Moderate</td>\n",
              "      <td>1</td>\n",
              "      <td>Good</td>\n",
              "      <td>36</td>\n",
              "      <td>Good</td>\n",
              "      <td>0</td>\n",
              "      <td>Good</td>\n",
              "      <td>51</td>\n",
              "      <td>Moderate</td>\n",
              "    </tr>\n",
              "    <tr>\n",
              "      <th>1</th>\n",
              "      <td>Brazil</td>\n",
              "      <td>Presidente Dutra</td>\n",
              "      <td>41</td>\n",
              "      <td>Good</td>\n",
              "      <td>1</td>\n",
              "      <td>Good</td>\n",
              "      <td>5</td>\n",
              "      <td>Good</td>\n",
              "      <td>1</td>\n",
              "      <td>Good</td>\n",
              "      <td>41</td>\n",
              "      <td>Good</td>\n",
              "    </tr>\n",
              "    <tr>\n",
              "      <th>2</th>\n",
              "      <td>Italy</td>\n",
              "      <td>Priolo Gargallo</td>\n",
              "      <td>66</td>\n",
              "      <td>Moderate</td>\n",
              "      <td>1</td>\n",
              "      <td>Good</td>\n",
              "      <td>39</td>\n",
              "      <td>Good</td>\n",
              "      <td>2</td>\n",
              "      <td>Good</td>\n",
              "      <td>66</td>\n",
              "      <td>Moderate</td>\n",
              "    </tr>\n",
              "    <tr>\n",
              "      <th>3</th>\n",
              "      <td>Poland</td>\n",
              "      <td>Przasnysz</td>\n",
              "      <td>34</td>\n",
              "      <td>Good</td>\n",
              "      <td>1</td>\n",
              "      <td>Good</td>\n",
              "      <td>34</td>\n",
              "      <td>Good</td>\n",
              "      <td>0</td>\n",
              "      <td>Good</td>\n",
              "      <td>20</td>\n",
              "      <td>Good</td>\n",
              "    </tr>\n",
              "    <tr>\n",
              "      <th>4</th>\n",
              "      <td>France</td>\n",
              "      <td>Punaauia</td>\n",
              "      <td>22</td>\n",
              "      <td>Good</td>\n",
              "      <td>0</td>\n",
              "      <td>Good</td>\n",
              "      <td>22</td>\n",
              "      <td>Good</td>\n",
              "      <td>0</td>\n",
              "      <td>Good</td>\n",
              "      <td>6</td>\n",
              "      <td>Good</td>\n",
              "    </tr>\n",
              "  </tbody>\n",
              "</table>\n",
              "</div>\n",
              "      <button class=\"colab-df-convert\" onclick=\"convertToInteractive('df-639e89c9-22fd-44b5-96f0-11f1e44a28f6')\"\n",
              "              title=\"Convert this dataframe to an interactive table.\"\n",
              "              style=\"display:none;\">\n",
              "        \n",
              "  <svg xmlns=\"http://www.w3.org/2000/svg\" height=\"24px\"viewBox=\"0 0 24 24\"\n",
              "       width=\"24px\">\n",
              "    <path d=\"M0 0h24v24H0V0z\" fill=\"none\"/>\n",
              "    <path d=\"M18.56 5.44l.94 2.06.94-2.06 2.06-.94-2.06-.94-.94-2.06-.94 2.06-2.06.94zm-11 1L8.5 8.5l.94-2.06 2.06-.94-2.06-.94L8.5 2.5l-.94 2.06-2.06.94zm10 10l.94 2.06.94-2.06 2.06-.94-2.06-.94-.94-2.06-.94 2.06-2.06.94z\"/><path d=\"M17.41 7.96l-1.37-1.37c-.4-.4-.92-.59-1.43-.59-.52 0-1.04.2-1.43.59L10.3 9.45l-7.72 7.72c-.78.78-.78 2.05 0 2.83L4 21.41c.39.39.9.59 1.41.59.51 0 1.02-.2 1.41-.59l7.78-7.78 2.81-2.81c.8-.78.8-2.07 0-2.86zM5.41 20L4 18.59l7.72-7.72 1.47 1.35L5.41 20z\"/>\n",
              "  </svg>\n",
              "      </button>\n",
              "      \n",
              "  <style>\n",
              "    .colab-df-container {\n",
              "      display:flex;\n",
              "      flex-wrap:wrap;\n",
              "      gap: 12px;\n",
              "    }\n",
              "\n",
              "    .colab-df-convert {\n",
              "      background-color: #E8F0FE;\n",
              "      border: none;\n",
              "      border-radius: 50%;\n",
              "      cursor: pointer;\n",
              "      display: none;\n",
              "      fill: #1967D2;\n",
              "      height: 32px;\n",
              "      padding: 0 0 0 0;\n",
              "      width: 32px;\n",
              "    }\n",
              "\n",
              "    .colab-df-convert:hover {\n",
              "      background-color: #E2EBFA;\n",
              "      box-shadow: 0px 1px 2px rgba(60, 64, 67, 0.3), 0px 1px 3px 1px rgba(60, 64, 67, 0.15);\n",
              "      fill: #174EA6;\n",
              "    }\n",
              "\n",
              "    [theme=dark] .colab-df-convert {\n",
              "      background-color: #3B4455;\n",
              "      fill: #D2E3FC;\n",
              "    }\n",
              "\n",
              "    [theme=dark] .colab-df-convert:hover {\n",
              "      background-color: #434B5C;\n",
              "      box-shadow: 0px 1px 3px 1px rgba(0, 0, 0, 0.15);\n",
              "      filter: drop-shadow(0px 1px 2px rgba(0, 0, 0, 0.3));\n",
              "      fill: #FFFFFF;\n",
              "    }\n",
              "  </style>\n",
              "\n",
              "      <script>\n",
              "        const buttonEl =\n",
              "          document.querySelector('#df-639e89c9-22fd-44b5-96f0-11f1e44a28f6 button.colab-df-convert');\n",
              "        buttonEl.style.display =\n",
              "          google.colab.kernel.accessAllowed ? 'block' : 'none';\n",
              "\n",
              "        async function convertToInteractive(key) {\n",
              "          const element = document.querySelector('#df-639e89c9-22fd-44b5-96f0-11f1e44a28f6');\n",
              "          const dataTable =\n",
              "            await google.colab.kernel.invokeFunction('convertToInteractive',\n",
              "                                                     [key], {});\n",
              "          if (!dataTable) return;\n",
              "\n",
              "          const docLinkHtml = 'Like what you see? Visit the ' +\n",
              "            '<a target=\"_blank\" href=https://colab.research.google.com/notebooks/data_table.ipynb>data table notebook</a>'\n",
              "            + ' to learn more about interactive tables.';\n",
              "          element.innerHTML = '';\n",
              "          dataTable['output_type'] = 'display_data';\n",
              "          await google.colab.output.renderOutput(dataTable, element);\n",
              "          const docLink = document.createElement('div');\n",
              "          docLink.innerHTML = docLinkHtml;\n",
              "          element.appendChild(docLink);\n",
              "        }\n",
              "      </script>\n",
              "    </div>\n",
              "  </div>\n",
              "  "
            ]
          },
          "metadata": {},
          "execution_count": 14
        }
      ]
    },
    {
      "cell_type": "markdown",
      "source": [
        "# New section"
      ],
      "metadata": {
        "id": "gZRyTMp195bJ"
      }
    },
    {
      "cell_type": "code",
      "source": [
        "#for this problem we dont need country and city removing those from the data set\n",
        "df1=df.drop(['Country','City'],axis=1, inplace=False)\n",
        "#here deoping the column and created a new data frame with out those columns\n",
        "#set axis = 0 to remove rows and set axis =1 to remove columns"
      ],
      "metadata": {
        "id": "2yt_MtLN-qwh"
      },
      "execution_count": 15,
      "outputs": []
    },
    {
      "cell_type": "markdown",
      "source": [
        "# New section"
      ],
      "metadata": {
        "id": "3Uoc-kye98Q8"
      }
    },
    {
      "cell_type": "code",
      "source": [
        "df1.describe()"
      ],
      "metadata": {
        "colab": {
          "base_uri": "https://localhost:8080/",
          "height": 300
        },
        "id": "xDc9-uiq_Vcj",
        "outputId": "c98f7282-5bd5-433b-ea71-eb627a976bf3"
      },
      "execution_count": 16,
      "outputs": [
        {
          "output_type": "execute_result",
          "data": {
            "text/plain": [
              "          AQI Value  CO AQI Value  Ozone AQI Value  NO2 AQI Value  \\\n",
              "count  23463.000000  23463.000000     23463.000000   23463.000000   \n",
              "mean      72.010868      1.368367        35.193709       3.063334   \n",
              "std       56.055220      1.832064        28.098723       5.254108   \n",
              "min        6.000000      0.000000         0.000000       0.000000   \n",
              "25%       39.000000      1.000000        21.000000       0.000000   \n",
              "50%       55.000000      1.000000        31.000000       1.000000   \n",
              "75%       79.000000      1.000000        40.000000       4.000000   \n",
              "max      500.000000    133.000000       235.000000      91.000000   \n",
              "\n",
              "       PM2.5 AQI Value  \n",
              "count     23463.000000  \n",
              "mean         68.519755  \n",
              "std          54.796443  \n",
              "min           0.000000  \n",
              "25%          35.000000  \n",
              "50%          54.000000  \n",
              "75%          79.000000  \n",
              "max         500.000000  "
            ],
            "text/html": [
              "\n",
              "  <div id=\"df-126644c9-4942-44b1-9d7e-984f141cfc78\">\n",
              "    <div class=\"colab-df-container\">\n",
              "      <div>\n",
              "<style scoped>\n",
              "    .dataframe tbody tr th:only-of-type {\n",
              "        vertical-align: middle;\n",
              "    }\n",
              "\n",
              "    .dataframe tbody tr th {\n",
              "        vertical-align: top;\n",
              "    }\n",
              "\n",
              "    .dataframe thead th {\n",
              "        text-align: right;\n",
              "    }\n",
              "</style>\n",
              "<table border=\"1\" class=\"dataframe\">\n",
              "  <thead>\n",
              "    <tr style=\"text-align: right;\">\n",
              "      <th></th>\n",
              "      <th>AQI Value</th>\n",
              "      <th>CO AQI Value</th>\n",
              "      <th>Ozone AQI Value</th>\n",
              "      <th>NO2 AQI Value</th>\n",
              "      <th>PM2.5 AQI Value</th>\n",
              "    </tr>\n",
              "  </thead>\n",
              "  <tbody>\n",
              "    <tr>\n",
              "      <th>count</th>\n",
              "      <td>23463.000000</td>\n",
              "      <td>23463.000000</td>\n",
              "      <td>23463.000000</td>\n",
              "      <td>23463.000000</td>\n",
              "      <td>23463.000000</td>\n",
              "    </tr>\n",
              "    <tr>\n",
              "      <th>mean</th>\n",
              "      <td>72.010868</td>\n",
              "      <td>1.368367</td>\n",
              "      <td>35.193709</td>\n",
              "      <td>3.063334</td>\n",
              "      <td>68.519755</td>\n",
              "    </tr>\n",
              "    <tr>\n",
              "      <th>std</th>\n",
              "      <td>56.055220</td>\n",
              "      <td>1.832064</td>\n",
              "      <td>28.098723</td>\n",
              "      <td>5.254108</td>\n",
              "      <td>54.796443</td>\n",
              "    </tr>\n",
              "    <tr>\n",
              "      <th>min</th>\n",
              "      <td>6.000000</td>\n",
              "      <td>0.000000</td>\n",
              "      <td>0.000000</td>\n",
              "      <td>0.000000</td>\n",
              "      <td>0.000000</td>\n",
              "    </tr>\n",
              "    <tr>\n",
              "      <th>25%</th>\n",
              "      <td>39.000000</td>\n",
              "      <td>1.000000</td>\n",
              "      <td>21.000000</td>\n",
              "      <td>0.000000</td>\n",
              "      <td>35.000000</td>\n",
              "    </tr>\n",
              "    <tr>\n",
              "      <th>50%</th>\n",
              "      <td>55.000000</td>\n",
              "      <td>1.000000</td>\n",
              "      <td>31.000000</td>\n",
              "      <td>1.000000</td>\n",
              "      <td>54.000000</td>\n",
              "    </tr>\n",
              "    <tr>\n",
              "      <th>75%</th>\n",
              "      <td>79.000000</td>\n",
              "      <td>1.000000</td>\n",
              "      <td>40.000000</td>\n",
              "      <td>4.000000</td>\n",
              "      <td>79.000000</td>\n",
              "    </tr>\n",
              "    <tr>\n",
              "      <th>max</th>\n",
              "      <td>500.000000</td>\n",
              "      <td>133.000000</td>\n",
              "      <td>235.000000</td>\n",
              "      <td>91.000000</td>\n",
              "      <td>500.000000</td>\n",
              "    </tr>\n",
              "  </tbody>\n",
              "</table>\n",
              "</div>\n",
              "      <button class=\"colab-df-convert\" onclick=\"convertToInteractive('df-126644c9-4942-44b1-9d7e-984f141cfc78')\"\n",
              "              title=\"Convert this dataframe to an interactive table.\"\n",
              "              style=\"display:none;\">\n",
              "        \n",
              "  <svg xmlns=\"http://www.w3.org/2000/svg\" height=\"24px\"viewBox=\"0 0 24 24\"\n",
              "       width=\"24px\">\n",
              "    <path d=\"M0 0h24v24H0V0z\" fill=\"none\"/>\n",
              "    <path d=\"M18.56 5.44l.94 2.06.94-2.06 2.06-.94-2.06-.94-.94-2.06-.94 2.06-2.06.94zm-11 1L8.5 8.5l.94-2.06 2.06-.94-2.06-.94L8.5 2.5l-.94 2.06-2.06.94zm10 10l.94 2.06.94-2.06 2.06-.94-2.06-.94-.94-2.06-.94 2.06-2.06.94z\"/><path d=\"M17.41 7.96l-1.37-1.37c-.4-.4-.92-.59-1.43-.59-.52 0-1.04.2-1.43.59L10.3 9.45l-7.72 7.72c-.78.78-.78 2.05 0 2.83L4 21.41c.39.39.9.59 1.41.59.51 0 1.02-.2 1.41-.59l7.78-7.78 2.81-2.81c.8-.78.8-2.07 0-2.86zM5.41 20L4 18.59l7.72-7.72 1.47 1.35L5.41 20z\"/>\n",
              "  </svg>\n",
              "      </button>\n",
              "      \n",
              "  <style>\n",
              "    .colab-df-container {\n",
              "      display:flex;\n",
              "      flex-wrap:wrap;\n",
              "      gap: 12px;\n",
              "    }\n",
              "\n",
              "    .colab-df-convert {\n",
              "      background-color: #E8F0FE;\n",
              "      border: none;\n",
              "      border-radius: 50%;\n",
              "      cursor: pointer;\n",
              "      display: none;\n",
              "      fill: #1967D2;\n",
              "      height: 32px;\n",
              "      padding: 0 0 0 0;\n",
              "      width: 32px;\n",
              "    }\n",
              "\n",
              "    .colab-df-convert:hover {\n",
              "      background-color: #E2EBFA;\n",
              "      box-shadow: 0px 1px 2px rgba(60, 64, 67, 0.3), 0px 1px 3px 1px rgba(60, 64, 67, 0.15);\n",
              "      fill: #174EA6;\n",
              "    }\n",
              "\n",
              "    [theme=dark] .colab-df-convert {\n",
              "      background-color: #3B4455;\n",
              "      fill: #D2E3FC;\n",
              "    }\n",
              "\n",
              "    [theme=dark] .colab-df-convert:hover {\n",
              "      background-color: #434B5C;\n",
              "      box-shadow: 0px 1px 3px 1px rgba(0, 0, 0, 0.15);\n",
              "      filter: drop-shadow(0px 1px 2px rgba(0, 0, 0, 0.3));\n",
              "      fill: #FFFFFF;\n",
              "    }\n",
              "  </style>\n",
              "\n",
              "      <script>\n",
              "        const buttonEl =\n",
              "          document.querySelector('#df-126644c9-4942-44b1-9d7e-984f141cfc78 button.colab-df-convert');\n",
              "        buttonEl.style.display =\n",
              "          google.colab.kernel.accessAllowed ? 'block' : 'none';\n",
              "\n",
              "        async function convertToInteractive(key) {\n",
              "          const element = document.querySelector('#df-126644c9-4942-44b1-9d7e-984f141cfc78');\n",
              "          const dataTable =\n",
              "            await google.colab.kernel.invokeFunction('convertToInteractive',\n",
              "                                                     [key], {});\n",
              "          if (!dataTable) return;\n",
              "\n",
              "          const docLinkHtml = 'Like what you see? Visit the ' +\n",
              "            '<a target=\"_blank\" href=https://colab.research.google.com/notebooks/data_table.ipynb>data table notebook</a>'\n",
              "            + ' to learn more about interactive tables.';\n",
              "          element.innerHTML = '';\n",
              "          dataTable['output_type'] = 'display_data';\n",
              "          await google.colab.output.renderOutput(dataTable, element);\n",
              "          const docLink = document.createElement('div');\n",
              "          docLink.innerHTML = docLinkHtml;\n",
              "          element.appendChild(docLink);\n",
              "        }\n",
              "      </script>\n",
              "    </div>\n",
              "  </div>\n",
              "  "
            ]
          },
          "metadata": {},
          "execution_count": 16
        }
      ]
    },
    {
      "cell_type": "markdown",
      "source": [
        "# New section"
      ],
      "metadata": {
        "id": "9eNt73si98UW"
      }
    },
    {
      "cell_type": "code",
      "source": [
        "#check in the dataset df1 if there is any null values\n",
        "df1.notnull()"
      ],
      "metadata": {
        "colab": {
          "base_uri": "https://localhost:8080/",
          "height": 485
        },
        "id": "UwCv1e0sAza-",
        "outputId": "3a3c2b48-0338-436d-b464-0d6c357a5508"
      },
      "execution_count": 17,
      "outputs": [
        {
          "output_type": "execute_result",
          "data": {
            "text/plain": [
              "       AQI Value  AQI Category  CO AQI Value  CO AQI Category  \\\n",
              "0           True          True          True             True   \n",
              "1           True          True          True             True   \n",
              "2           True          True          True             True   \n",
              "3           True          True          True             True   \n",
              "4           True          True          True             True   \n",
              "...          ...           ...           ...              ...   \n",
              "23458       True          True          True             True   \n",
              "23459       True          True          True             True   \n",
              "23460       True          True          True             True   \n",
              "23461       True          True          True             True   \n",
              "23462       True          True          True             True   \n",
              "\n",
              "       Ozone AQI Value  Ozone AQI Category  NO2 AQI Value  NO2 AQI Category  \\\n",
              "0                 True                True           True              True   \n",
              "1                 True                True           True              True   \n",
              "2                 True                True           True              True   \n",
              "3                 True                True           True              True   \n",
              "4                 True                True           True              True   \n",
              "...                ...                 ...            ...               ...   \n",
              "23458             True                True           True              True   \n",
              "23459             True                True           True              True   \n",
              "23460             True                True           True              True   \n",
              "23461             True                True           True              True   \n",
              "23462             True                True           True              True   \n",
              "\n",
              "       PM2.5 AQI Value  PM2.5 AQI Category  \n",
              "0                 True                True  \n",
              "1                 True                True  \n",
              "2                 True                True  \n",
              "3                 True                True  \n",
              "4                 True                True  \n",
              "...                ...                 ...  \n",
              "23458             True                True  \n",
              "23459             True                True  \n",
              "23460             True                True  \n",
              "23461             True                True  \n",
              "23462             True                True  \n",
              "\n",
              "[23463 rows x 10 columns]"
            ],
            "text/html": [
              "\n",
              "  <div id=\"df-f27ce3b7-41e3-41ab-b06c-14193de4de34\">\n",
              "    <div class=\"colab-df-container\">\n",
              "      <div>\n",
              "<style scoped>\n",
              "    .dataframe tbody tr th:only-of-type {\n",
              "        vertical-align: middle;\n",
              "    }\n",
              "\n",
              "    .dataframe tbody tr th {\n",
              "        vertical-align: top;\n",
              "    }\n",
              "\n",
              "    .dataframe thead th {\n",
              "        text-align: right;\n",
              "    }\n",
              "</style>\n",
              "<table border=\"1\" class=\"dataframe\">\n",
              "  <thead>\n",
              "    <tr style=\"text-align: right;\">\n",
              "      <th></th>\n",
              "      <th>AQI Value</th>\n",
              "      <th>AQI Category</th>\n",
              "      <th>CO AQI Value</th>\n",
              "      <th>CO AQI Category</th>\n",
              "      <th>Ozone AQI Value</th>\n",
              "      <th>Ozone AQI Category</th>\n",
              "      <th>NO2 AQI Value</th>\n",
              "      <th>NO2 AQI Category</th>\n",
              "      <th>PM2.5 AQI Value</th>\n",
              "      <th>PM2.5 AQI Category</th>\n",
              "    </tr>\n",
              "  </thead>\n",
              "  <tbody>\n",
              "    <tr>\n",
              "      <th>0</th>\n",
              "      <td>True</td>\n",
              "      <td>True</td>\n",
              "      <td>True</td>\n",
              "      <td>True</td>\n",
              "      <td>True</td>\n",
              "      <td>True</td>\n",
              "      <td>True</td>\n",
              "      <td>True</td>\n",
              "      <td>True</td>\n",
              "      <td>True</td>\n",
              "    </tr>\n",
              "    <tr>\n",
              "      <th>1</th>\n",
              "      <td>True</td>\n",
              "      <td>True</td>\n",
              "      <td>True</td>\n",
              "      <td>True</td>\n",
              "      <td>True</td>\n",
              "      <td>True</td>\n",
              "      <td>True</td>\n",
              "      <td>True</td>\n",
              "      <td>True</td>\n",
              "      <td>True</td>\n",
              "    </tr>\n",
              "    <tr>\n",
              "      <th>2</th>\n",
              "      <td>True</td>\n",
              "      <td>True</td>\n",
              "      <td>True</td>\n",
              "      <td>True</td>\n",
              "      <td>True</td>\n",
              "      <td>True</td>\n",
              "      <td>True</td>\n",
              "      <td>True</td>\n",
              "      <td>True</td>\n",
              "      <td>True</td>\n",
              "    </tr>\n",
              "    <tr>\n",
              "      <th>3</th>\n",
              "      <td>True</td>\n",
              "      <td>True</td>\n",
              "      <td>True</td>\n",
              "      <td>True</td>\n",
              "      <td>True</td>\n",
              "      <td>True</td>\n",
              "      <td>True</td>\n",
              "      <td>True</td>\n",
              "      <td>True</td>\n",
              "      <td>True</td>\n",
              "    </tr>\n",
              "    <tr>\n",
              "      <th>4</th>\n",
              "      <td>True</td>\n",
              "      <td>True</td>\n",
              "      <td>True</td>\n",
              "      <td>True</td>\n",
              "      <td>True</td>\n",
              "      <td>True</td>\n",
              "      <td>True</td>\n",
              "      <td>True</td>\n",
              "      <td>True</td>\n",
              "      <td>True</td>\n",
              "    </tr>\n",
              "    <tr>\n",
              "      <th>...</th>\n",
              "      <td>...</td>\n",
              "      <td>...</td>\n",
              "      <td>...</td>\n",
              "      <td>...</td>\n",
              "      <td>...</td>\n",
              "      <td>...</td>\n",
              "      <td>...</td>\n",
              "      <td>...</td>\n",
              "      <td>...</td>\n",
              "      <td>...</td>\n",
              "    </tr>\n",
              "    <tr>\n",
              "      <th>23458</th>\n",
              "      <td>True</td>\n",
              "      <td>True</td>\n",
              "      <td>True</td>\n",
              "      <td>True</td>\n",
              "      <td>True</td>\n",
              "      <td>True</td>\n",
              "      <td>True</td>\n",
              "      <td>True</td>\n",
              "      <td>True</td>\n",
              "      <td>True</td>\n",
              "    </tr>\n",
              "    <tr>\n",
              "      <th>23459</th>\n",
              "      <td>True</td>\n",
              "      <td>True</td>\n",
              "      <td>True</td>\n",
              "      <td>True</td>\n",
              "      <td>True</td>\n",
              "      <td>True</td>\n",
              "      <td>True</td>\n",
              "      <td>True</td>\n",
              "      <td>True</td>\n",
              "      <td>True</td>\n",
              "    </tr>\n",
              "    <tr>\n",
              "      <th>23460</th>\n",
              "      <td>True</td>\n",
              "      <td>True</td>\n",
              "      <td>True</td>\n",
              "      <td>True</td>\n",
              "      <td>True</td>\n",
              "      <td>True</td>\n",
              "      <td>True</td>\n",
              "      <td>True</td>\n",
              "      <td>True</td>\n",
              "      <td>True</td>\n",
              "    </tr>\n",
              "    <tr>\n",
              "      <th>23461</th>\n",
              "      <td>True</td>\n",
              "      <td>True</td>\n",
              "      <td>True</td>\n",
              "      <td>True</td>\n",
              "      <td>True</td>\n",
              "      <td>True</td>\n",
              "      <td>True</td>\n",
              "      <td>True</td>\n",
              "      <td>True</td>\n",
              "      <td>True</td>\n",
              "    </tr>\n",
              "    <tr>\n",
              "      <th>23462</th>\n",
              "      <td>True</td>\n",
              "      <td>True</td>\n",
              "      <td>True</td>\n",
              "      <td>True</td>\n",
              "      <td>True</td>\n",
              "      <td>True</td>\n",
              "      <td>True</td>\n",
              "      <td>True</td>\n",
              "      <td>True</td>\n",
              "      <td>True</td>\n",
              "    </tr>\n",
              "  </tbody>\n",
              "</table>\n",
              "<p>23463 rows × 10 columns</p>\n",
              "</div>\n",
              "      <button class=\"colab-df-convert\" onclick=\"convertToInteractive('df-f27ce3b7-41e3-41ab-b06c-14193de4de34')\"\n",
              "              title=\"Convert this dataframe to an interactive table.\"\n",
              "              style=\"display:none;\">\n",
              "        \n",
              "  <svg xmlns=\"http://www.w3.org/2000/svg\" height=\"24px\"viewBox=\"0 0 24 24\"\n",
              "       width=\"24px\">\n",
              "    <path d=\"M0 0h24v24H0V0z\" fill=\"none\"/>\n",
              "    <path d=\"M18.56 5.44l.94 2.06.94-2.06 2.06-.94-2.06-.94-.94-2.06-.94 2.06-2.06.94zm-11 1L8.5 8.5l.94-2.06 2.06-.94-2.06-.94L8.5 2.5l-.94 2.06-2.06.94zm10 10l.94 2.06.94-2.06 2.06-.94-2.06-.94-.94-2.06-.94 2.06-2.06.94z\"/><path d=\"M17.41 7.96l-1.37-1.37c-.4-.4-.92-.59-1.43-.59-.52 0-1.04.2-1.43.59L10.3 9.45l-7.72 7.72c-.78.78-.78 2.05 0 2.83L4 21.41c.39.39.9.59 1.41.59.51 0 1.02-.2 1.41-.59l7.78-7.78 2.81-2.81c.8-.78.8-2.07 0-2.86zM5.41 20L4 18.59l7.72-7.72 1.47 1.35L5.41 20z\"/>\n",
              "  </svg>\n",
              "      </button>\n",
              "      \n",
              "  <style>\n",
              "    .colab-df-container {\n",
              "      display:flex;\n",
              "      flex-wrap:wrap;\n",
              "      gap: 12px;\n",
              "    }\n",
              "\n",
              "    .colab-df-convert {\n",
              "      background-color: #E8F0FE;\n",
              "      border: none;\n",
              "      border-radius: 50%;\n",
              "      cursor: pointer;\n",
              "      display: none;\n",
              "      fill: #1967D2;\n",
              "      height: 32px;\n",
              "      padding: 0 0 0 0;\n",
              "      width: 32px;\n",
              "    }\n",
              "\n",
              "    .colab-df-convert:hover {\n",
              "      background-color: #E2EBFA;\n",
              "      box-shadow: 0px 1px 2px rgba(60, 64, 67, 0.3), 0px 1px 3px 1px rgba(60, 64, 67, 0.15);\n",
              "      fill: #174EA6;\n",
              "    }\n",
              "\n",
              "    [theme=dark] .colab-df-convert {\n",
              "      background-color: #3B4455;\n",
              "      fill: #D2E3FC;\n",
              "    }\n",
              "\n",
              "    [theme=dark] .colab-df-convert:hover {\n",
              "      background-color: #434B5C;\n",
              "      box-shadow: 0px 1px 3px 1px rgba(0, 0, 0, 0.15);\n",
              "      filter: drop-shadow(0px 1px 2px rgba(0, 0, 0, 0.3));\n",
              "      fill: #FFFFFF;\n",
              "    }\n",
              "  </style>\n",
              "\n",
              "      <script>\n",
              "        const buttonEl =\n",
              "          document.querySelector('#df-f27ce3b7-41e3-41ab-b06c-14193de4de34 button.colab-df-convert');\n",
              "        buttonEl.style.display =\n",
              "          google.colab.kernel.accessAllowed ? 'block' : 'none';\n",
              "\n",
              "        async function convertToInteractive(key) {\n",
              "          const element = document.querySelector('#df-f27ce3b7-41e3-41ab-b06c-14193de4de34');\n",
              "          const dataTable =\n",
              "            await google.colab.kernel.invokeFunction('convertToInteractive',\n",
              "                                                     [key], {});\n",
              "          if (!dataTable) return;\n",
              "\n",
              "          const docLinkHtml = 'Like what you see? Visit the ' +\n",
              "            '<a target=\"_blank\" href=https://colab.research.google.com/notebooks/data_table.ipynb>data table notebook</a>'\n",
              "            + ' to learn more about interactive tables.';\n",
              "          element.innerHTML = '';\n",
              "          dataTable['output_type'] = 'display_data';\n",
              "          await google.colab.output.renderOutput(dataTable, element);\n",
              "          const docLink = document.createElement('div');\n",
              "          docLink.innerHTML = docLinkHtml;\n",
              "          element.appendChild(docLink);\n",
              "        }\n",
              "      </script>\n",
              "    </div>\n",
              "  </div>\n",
              "  "
            ]
          },
          "metadata": {},
          "execution_count": 17
        }
      ]
    },
    {
      "cell_type": "markdown",
      "source": [],
      "metadata": {
        "id": "rRJ-MQOMxM9a"
      }
    },
    {
      "cell_type": "markdown",
      "source": [
        "Prediction of air pollution levels: You could try using supervised machine learning techniques to build a model that predicts air pollution levels\n",
        " in a particular location based on the AQI Value and AQI Category attributes. "
      ],
      "metadata": {
        "id": "gq_SdnoWw-a-"
      }
    },
    {
      "cell_type": "markdown",
      "source": [
        "Problem definition:\n",
        "Predict the air pollution level (AQI Value and AQI Category) in a particular location based on the CO AQI Category, Ozone AQI Value, Ozone AQI Category, NO2 AQI Value, NO2 AQI Category, PM2.5 AQI Value, and PM2.5 AQI Category attributes.\n"
      ],
      "metadata": {
        "id": "30tnu39mw7kV"
      }
    },
    {
      "cell_type": "code",
      "source": [
        "df.describe()\n",
        "#describing the statisctice of the dataset"
      ],
      "metadata": {
        "colab": {
          "base_uri": "https://localhost:8080/",
          "height": 300
        },
        "id": "EExO8yFkzA1g",
        "outputId": "142e171c-6c74-49e1-bf83-109087e767a7"
      },
      "execution_count": 18,
      "outputs": [
        {
          "output_type": "execute_result",
          "data": {
            "text/plain": [
              "          AQI Value  CO AQI Value  Ozone AQI Value  NO2 AQI Value  \\\n",
              "count  23463.000000  23463.000000     23463.000000   23463.000000   \n",
              "mean      72.010868      1.368367        35.193709       3.063334   \n",
              "std       56.055220      1.832064        28.098723       5.254108   \n",
              "min        6.000000      0.000000         0.000000       0.000000   \n",
              "25%       39.000000      1.000000        21.000000       0.000000   \n",
              "50%       55.000000      1.000000        31.000000       1.000000   \n",
              "75%       79.000000      1.000000        40.000000       4.000000   \n",
              "max      500.000000    133.000000       235.000000      91.000000   \n",
              "\n",
              "       PM2.5 AQI Value  \n",
              "count     23463.000000  \n",
              "mean         68.519755  \n",
              "std          54.796443  \n",
              "min           0.000000  \n",
              "25%          35.000000  \n",
              "50%          54.000000  \n",
              "75%          79.000000  \n",
              "max         500.000000  "
            ],
            "text/html": [
              "\n",
              "  <div id=\"df-b04c46ad-f206-43aa-80a6-8e5c7028e0d4\">\n",
              "    <div class=\"colab-df-container\">\n",
              "      <div>\n",
              "<style scoped>\n",
              "    .dataframe tbody tr th:only-of-type {\n",
              "        vertical-align: middle;\n",
              "    }\n",
              "\n",
              "    .dataframe tbody tr th {\n",
              "        vertical-align: top;\n",
              "    }\n",
              "\n",
              "    .dataframe thead th {\n",
              "        text-align: right;\n",
              "    }\n",
              "</style>\n",
              "<table border=\"1\" class=\"dataframe\">\n",
              "  <thead>\n",
              "    <tr style=\"text-align: right;\">\n",
              "      <th></th>\n",
              "      <th>AQI Value</th>\n",
              "      <th>CO AQI Value</th>\n",
              "      <th>Ozone AQI Value</th>\n",
              "      <th>NO2 AQI Value</th>\n",
              "      <th>PM2.5 AQI Value</th>\n",
              "    </tr>\n",
              "  </thead>\n",
              "  <tbody>\n",
              "    <tr>\n",
              "      <th>count</th>\n",
              "      <td>23463.000000</td>\n",
              "      <td>23463.000000</td>\n",
              "      <td>23463.000000</td>\n",
              "      <td>23463.000000</td>\n",
              "      <td>23463.000000</td>\n",
              "    </tr>\n",
              "    <tr>\n",
              "      <th>mean</th>\n",
              "      <td>72.010868</td>\n",
              "      <td>1.368367</td>\n",
              "      <td>35.193709</td>\n",
              "      <td>3.063334</td>\n",
              "      <td>68.519755</td>\n",
              "    </tr>\n",
              "    <tr>\n",
              "      <th>std</th>\n",
              "      <td>56.055220</td>\n",
              "      <td>1.832064</td>\n",
              "      <td>28.098723</td>\n",
              "      <td>5.254108</td>\n",
              "      <td>54.796443</td>\n",
              "    </tr>\n",
              "    <tr>\n",
              "      <th>min</th>\n",
              "      <td>6.000000</td>\n",
              "      <td>0.000000</td>\n",
              "      <td>0.000000</td>\n",
              "      <td>0.000000</td>\n",
              "      <td>0.000000</td>\n",
              "    </tr>\n",
              "    <tr>\n",
              "      <th>25%</th>\n",
              "      <td>39.000000</td>\n",
              "      <td>1.000000</td>\n",
              "      <td>21.000000</td>\n",
              "      <td>0.000000</td>\n",
              "      <td>35.000000</td>\n",
              "    </tr>\n",
              "    <tr>\n",
              "      <th>50%</th>\n",
              "      <td>55.000000</td>\n",
              "      <td>1.000000</td>\n",
              "      <td>31.000000</td>\n",
              "      <td>1.000000</td>\n",
              "      <td>54.000000</td>\n",
              "    </tr>\n",
              "    <tr>\n",
              "      <th>75%</th>\n",
              "      <td>79.000000</td>\n",
              "      <td>1.000000</td>\n",
              "      <td>40.000000</td>\n",
              "      <td>4.000000</td>\n",
              "      <td>79.000000</td>\n",
              "    </tr>\n",
              "    <tr>\n",
              "      <th>max</th>\n",
              "      <td>500.000000</td>\n",
              "      <td>133.000000</td>\n",
              "      <td>235.000000</td>\n",
              "      <td>91.000000</td>\n",
              "      <td>500.000000</td>\n",
              "    </tr>\n",
              "  </tbody>\n",
              "</table>\n",
              "</div>\n",
              "      <button class=\"colab-df-convert\" onclick=\"convertToInteractive('df-b04c46ad-f206-43aa-80a6-8e5c7028e0d4')\"\n",
              "              title=\"Convert this dataframe to an interactive table.\"\n",
              "              style=\"display:none;\">\n",
              "        \n",
              "  <svg xmlns=\"http://www.w3.org/2000/svg\" height=\"24px\"viewBox=\"0 0 24 24\"\n",
              "       width=\"24px\">\n",
              "    <path d=\"M0 0h24v24H0V0z\" fill=\"none\"/>\n",
              "    <path d=\"M18.56 5.44l.94 2.06.94-2.06 2.06-.94-2.06-.94-.94-2.06-.94 2.06-2.06.94zm-11 1L8.5 8.5l.94-2.06 2.06-.94-2.06-.94L8.5 2.5l-.94 2.06-2.06.94zm10 10l.94 2.06.94-2.06 2.06-.94-2.06-.94-.94-2.06-.94 2.06-2.06.94z\"/><path d=\"M17.41 7.96l-1.37-1.37c-.4-.4-.92-.59-1.43-.59-.52 0-1.04.2-1.43.59L10.3 9.45l-7.72 7.72c-.78.78-.78 2.05 0 2.83L4 21.41c.39.39.9.59 1.41.59.51 0 1.02-.2 1.41-.59l7.78-7.78 2.81-2.81c.8-.78.8-2.07 0-2.86zM5.41 20L4 18.59l7.72-7.72 1.47 1.35L5.41 20z\"/>\n",
              "  </svg>\n",
              "      </button>\n",
              "      \n",
              "  <style>\n",
              "    .colab-df-container {\n",
              "      display:flex;\n",
              "      flex-wrap:wrap;\n",
              "      gap: 12px;\n",
              "    }\n",
              "\n",
              "    .colab-df-convert {\n",
              "      background-color: #E8F0FE;\n",
              "      border: none;\n",
              "      border-radius: 50%;\n",
              "      cursor: pointer;\n",
              "      display: none;\n",
              "      fill: #1967D2;\n",
              "      height: 32px;\n",
              "      padding: 0 0 0 0;\n",
              "      width: 32px;\n",
              "    }\n",
              "\n",
              "    .colab-df-convert:hover {\n",
              "      background-color: #E2EBFA;\n",
              "      box-shadow: 0px 1px 2px rgba(60, 64, 67, 0.3), 0px 1px 3px 1px rgba(60, 64, 67, 0.15);\n",
              "      fill: #174EA6;\n",
              "    }\n",
              "\n",
              "    [theme=dark] .colab-df-convert {\n",
              "      background-color: #3B4455;\n",
              "      fill: #D2E3FC;\n",
              "    }\n",
              "\n",
              "    [theme=dark] .colab-df-convert:hover {\n",
              "      background-color: #434B5C;\n",
              "      box-shadow: 0px 1px 3px 1px rgba(0, 0, 0, 0.15);\n",
              "      filter: drop-shadow(0px 1px 2px rgba(0, 0, 0, 0.3));\n",
              "      fill: #FFFFFF;\n",
              "    }\n",
              "  </style>\n",
              "\n",
              "      <script>\n",
              "        const buttonEl =\n",
              "          document.querySelector('#df-b04c46ad-f206-43aa-80a6-8e5c7028e0d4 button.colab-df-convert');\n",
              "        buttonEl.style.display =\n",
              "          google.colab.kernel.accessAllowed ? 'block' : 'none';\n",
              "\n",
              "        async function convertToInteractive(key) {\n",
              "          const element = document.querySelector('#df-b04c46ad-f206-43aa-80a6-8e5c7028e0d4');\n",
              "          const dataTable =\n",
              "            await google.colab.kernel.invokeFunction('convertToInteractive',\n",
              "                                                     [key], {});\n",
              "          if (!dataTable) return;\n",
              "\n",
              "          const docLinkHtml = 'Like what you see? Visit the ' +\n",
              "            '<a target=\"_blank\" href=https://colab.research.google.com/notebooks/data_table.ipynb>data table notebook</a>'\n",
              "            + ' to learn more about interactive tables.';\n",
              "          element.innerHTML = '';\n",
              "          dataTable['output_type'] = 'display_data';\n",
              "          await google.colab.output.renderOutput(dataTable, element);\n",
              "          const docLink = document.createElement('div');\n",
              "          docLink.innerHTML = docLinkHtml;\n",
              "          element.appendChild(docLink);\n",
              "        }\n",
              "      </script>\n",
              "    </div>\n",
              "  </div>\n",
              "  "
            ]
          },
          "metadata": {},
          "execution_count": 18
        }
      ]
    },
    {
      "cell_type": "code",
      "source": [
        "df.head()"
      ],
      "metadata": {
        "colab": {
          "base_uri": "https://localhost:8080/",
          "height": 320
        },
        "id": "c3iC1Ioy1FCc",
        "outputId": "540bc61a-5994-4f34-8730-fa5493d51230"
      },
      "execution_count": 19,
      "outputs": [
        {
          "output_type": "execute_result",
          "data": {
            "text/plain": [
              "              Country              City  AQI Value AQI Category  CO AQI Value  \\\n",
              "0  Russian Federation        Praskoveya         51     Moderate             1   \n",
              "1              Brazil  Presidente Dutra         41         Good             1   \n",
              "2               Italy   Priolo Gargallo         66     Moderate             1   \n",
              "3              Poland         Przasnysz         34         Good             1   \n",
              "4              France          Punaauia         22         Good             0   \n",
              "\n",
              "  CO AQI Category  Ozone AQI Value Ozone AQI Category  NO2 AQI Value  \\\n",
              "0            Good               36               Good              0   \n",
              "1            Good                5               Good              1   \n",
              "2            Good               39               Good              2   \n",
              "3            Good               34               Good              0   \n",
              "4            Good               22               Good              0   \n",
              "\n",
              "  NO2 AQI Category  PM2.5 AQI Value PM2.5 AQI Category  \n",
              "0             Good               51           Moderate  \n",
              "1             Good               41               Good  \n",
              "2             Good               66           Moderate  \n",
              "3             Good               20               Good  \n",
              "4             Good                6               Good  "
            ],
            "text/html": [
              "\n",
              "  <div id=\"df-5f345a3e-d029-47f1-a538-02735c1a8a6d\">\n",
              "    <div class=\"colab-df-container\">\n",
              "      <div>\n",
              "<style scoped>\n",
              "    .dataframe tbody tr th:only-of-type {\n",
              "        vertical-align: middle;\n",
              "    }\n",
              "\n",
              "    .dataframe tbody tr th {\n",
              "        vertical-align: top;\n",
              "    }\n",
              "\n",
              "    .dataframe thead th {\n",
              "        text-align: right;\n",
              "    }\n",
              "</style>\n",
              "<table border=\"1\" class=\"dataframe\">\n",
              "  <thead>\n",
              "    <tr style=\"text-align: right;\">\n",
              "      <th></th>\n",
              "      <th>Country</th>\n",
              "      <th>City</th>\n",
              "      <th>AQI Value</th>\n",
              "      <th>AQI Category</th>\n",
              "      <th>CO AQI Value</th>\n",
              "      <th>CO AQI Category</th>\n",
              "      <th>Ozone AQI Value</th>\n",
              "      <th>Ozone AQI Category</th>\n",
              "      <th>NO2 AQI Value</th>\n",
              "      <th>NO2 AQI Category</th>\n",
              "      <th>PM2.5 AQI Value</th>\n",
              "      <th>PM2.5 AQI Category</th>\n",
              "    </tr>\n",
              "  </thead>\n",
              "  <tbody>\n",
              "    <tr>\n",
              "      <th>0</th>\n",
              "      <td>Russian Federation</td>\n",
              "      <td>Praskoveya</td>\n",
              "      <td>51</td>\n",
              "      <td>Moderate</td>\n",
              "      <td>1</td>\n",
              "      <td>Good</td>\n",
              "      <td>36</td>\n",
              "      <td>Good</td>\n",
              "      <td>0</td>\n",
              "      <td>Good</td>\n",
              "      <td>51</td>\n",
              "      <td>Moderate</td>\n",
              "    </tr>\n",
              "    <tr>\n",
              "      <th>1</th>\n",
              "      <td>Brazil</td>\n",
              "      <td>Presidente Dutra</td>\n",
              "      <td>41</td>\n",
              "      <td>Good</td>\n",
              "      <td>1</td>\n",
              "      <td>Good</td>\n",
              "      <td>5</td>\n",
              "      <td>Good</td>\n",
              "      <td>1</td>\n",
              "      <td>Good</td>\n",
              "      <td>41</td>\n",
              "      <td>Good</td>\n",
              "    </tr>\n",
              "    <tr>\n",
              "      <th>2</th>\n",
              "      <td>Italy</td>\n",
              "      <td>Priolo Gargallo</td>\n",
              "      <td>66</td>\n",
              "      <td>Moderate</td>\n",
              "      <td>1</td>\n",
              "      <td>Good</td>\n",
              "      <td>39</td>\n",
              "      <td>Good</td>\n",
              "      <td>2</td>\n",
              "      <td>Good</td>\n",
              "      <td>66</td>\n",
              "      <td>Moderate</td>\n",
              "    </tr>\n",
              "    <tr>\n",
              "      <th>3</th>\n",
              "      <td>Poland</td>\n",
              "      <td>Przasnysz</td>\n",
              "      <td>34</td>\n",
              "      <td>Good</td>\n",
              "      <td>1</td>\n",
              "      <td>Good</td>\n",
              "      <td>34</td>\n",
              "      <td>Good</td>\n",
              "      <td>0</td>\n",
              "      <td>Good</td>\n",
              "      <td>20</td>\n",
              "      <td>Good</td>\n",
              "    </tr>\n",
              "    <tr>\n",
              "      <th>4</th>\n",
              "      <td>France</td>\n",
              "      <td>Punaauia</td>\n",
              "      <td>22</td>\n",
              "      <td>Good</td>\n",
              "      <td>0</td>\n",
              "      <td>Good</td>\n",
              "      <td>22</td>\n",
              "      <td>Good</td>\n",
              "      <td>0</td>\n",
              "      <td>Good</td>\n",
              "      <td>6</td>\n",
              "      <td>Good</td>\n",
              "    </tr>\n",
              "  </tbody>\n",
              "</table>\n",
              "</div>\n",
              "      <button class=\"colab-df-convert\" onclick=\"convertToInteractive('df-5f345a3e-d029-47f1-a538-02735c1a8a6d')\"\n",
              "              title=\"Convert this dataframe to an interactive table.\"\n",
              "              style=\"display:none;\">\n",
              "        \n",
              "  <svg xmlns=\"http://www.w3.org/2000/svg\" height=\"24px\"viewBox=\"0 0 24 24\"\n",
              "       width=\"24px\">\n",
              "    <path d=\"M0 0h24v24H0V0z\" fill=\"none\"/>\n",
              "    <path d=\"M18.56 5.44l.94 2.06.94-2.06 2.06-.94-2.06-.94-.94-2.06-.94 2.06-2.06.94zm-11 1L8.5 8.5l.94-2.06 2.06-.94-2.06-.94L8.5 2.5l-.94 2.06-2.06.94zm10 10l.94 2.06.94-2.06 2.06-.94-2.06-.94-.94-2.06-.94 2.06-2.06.94z\"/><path d=\"M17.41 7.96l-1.37-1.37c-.4-.4-.92-.59-1.43-.59-.52 0-1.04.2-1.43.59L10.3 9.45l-7.72 7.72c-.78.78-.78 2.05 0 2.83L4 21.41c.39.39.9.59 1.41.59.51 0 1.02-.2 1.41-.59l7.78-7.78 2.81-2.81c.8-.78.8-2.07 0-2.86zM5.41 20L4 18.59l7.72-7.72 1.47 1.35L5.41 20z\"/>\n",
              "  </svg>\n",
              "      </button>\n",
              "      \n",
              "  <style>\n",
              "    .colab-df-container {\n",
              "      display:flex;\n",
              "      flex-wrap:wrap;\n",
              "      gap: 12px;\n",
              "    }\n",
              "\n",
              "    .colab-df-convert {\n",
              "      background-color: #E8F0FE;\n",
              "      border: none;\n",
              "      border-radius: 50%;\n",
              "      cursor: pointer;\n",
              "      display: none;\n",
              "      fill: #1967D2;\n",
              "      height: 32px;\n",
              "      padding: 0 0 0 0;\n",
              "      width: 32px;\n",
              "    }\n",
              "\n",
              "    .colab-df-convert:hover {\n",
              "      background-color: #E2EBFA;\n",
              "      box-shadow: 0px 1px 2px rgba(60, 64, 67, 0.3), 0px 1px 3px 1px rgba(60, 64, 67, 0.15);\n",
              "      fill: #174EA6;\n",
              "    }\n",
              "\n",
              "    [theme=dark] .colab-df-convert {\n",
              "      background-color: #3B4455;\n",
              "      fill: #D2E3FC;\n",
              "    }\n",
              "\n",
              "    [theme=dark] .colab-df-convert:hover {\n",
              "      background-color: #434B5C;\n",
              "      box-shadow: 0px 1px 3px 1px rgba(0, 0, 0, 0.15);\n",
              "      filter: drop-shadow(0px 1px 2px rgba(0, 0, 0, 0.3));\n",
              "      fill: #FFFFFF;\n",
              "    }\n",
              "  </style>\n",
              "\n",
              "      <script>\n",
              "        const buttonEl =\n",
              "          document.querySelector('#df-5f345a3e-d029-47f1-a538-02735c1a8a6d button.colab-df-convert');\n",
              "        buttonEl.style.display =\n",
              "          google.colab.kernel.accessAllowed ? 'block' : 'none';\n",
              "\n",
              "        async function convertToInteractive(key) {\n",
              "          const element = document.querySelector('#df-5f345a3e-d029-47f1-a538-02735c1a8a6d');\n",
              "          const dataTable =\n",
              "            await google.colab.kernel.invokeFunction('convertToInteractive',\n",
              "                                                     [key], {});\n",
              "          if (!dataTable) return;\n",
              "\n",
              "          const docLinkHtml = 'Like what you see? Visit the ' +\n",
              "            '<a target=\"_blank\" href=https://colab.research.google.com/notebooks/data_table.ipynb>data table notebook</a>'\n",
              "            + ' to learn more about interactive tables.';\n",
              "          element.innerHTML = '';\n",
              "          dataTable['output_type'] = 'display_data';\n",
              "          await google.colab.output.renderOutput(dataTable, element);\n",
              "          const docLink = document.createElement('div');\n",
              "          docLink.innerHTML = docLinkHtml;\n",
              "          element.appendChild(docLink);\n",
              "        }\n",
              "      </script>\n",
              "    </div>\n",
              "  </div>\n",
              "  "
            ]
          },
          "metadata": {},
          "execution_count": 19
        }
      ]
    },
    {
      "cell_type": "code",
      "source": [
        "df1.dtypes"
      ],
      "metadata": {
        "colab": {
          "base_uri": "https://localhost:8080/"
        },
        "id": "I3IeDJ4R1Igf",
        "outputId": "1c541910-a041-4d1f-8dbf-c731a6710bc3"
      },
      "execution_count": 20,
      "outputs": [
        {
          "output_type": "execute_result",
          "data": {
            "text/plain": [
              "AQI Value              int64\n",
              "AQI Category          object\n",
              "CO AQI Value           int64\n",
              "CO AQI Category       object\n",
              "Ozone AQI Value        int64\n",
              "Ozone AQI Category    object\n",
              "NO2 AQI Value          int64\n",
              "NO2 AQI Category      object\n",
              "PM2.5 AQI Value        int64\n",
              "PM2.5 AQI Category    object\n",
              "dtype: object"
            ]
          },
          "metadata": {},
          "execution_count": 20
        }
      ]
    },
    {
      "cell_type": "code",
      "source": [
        "df1['CO AQI Category'].unique()"
      ],
      "metadata": {
        "colab": {
          "base_uri": "https://localhost:8080/"
        },
        "id": "ihEPi6tg1bwp",
        "outputId": "774f9599-b8b0-4cbe-e866-5079108ed568"
      },
      "execution_count": 21,
      "outputs": [
        {
          "output_type": "execute_result",
          "data": {
            "text/plain": [
              "array(['Good', 'Unhealthy for Sensitive Groups', 'Moderate'], dtype=object)"
            ]
          },
          "metadata": {},
          "execution_count": 21
        }
      ]
    },
    {
      "cell_type": "code",
      "source": [
        "df1['CO AQI Value'].unique()"
      ],
      "metadata": {
        "colab": {
          "base_uri": "https://localhost:8080/"
        },
        "id": "hhKz2H0OEgHj",
        "outputId": "e3c25b69-02a5-4092-d4b0-68f37dfeafee"
      },
      "execution_count": 22,
      "outputs": [
        {
          "output_type": "execute_result",
          "data": {
            "text/plain": [
              "array([  1,   0,   3,   2,   5,   4,   7,  31,  12,  14,   9,   6,  10,\n",
              "         8,  15,  27,  11,  16,  21,  13, 133,  22,  20,  28,  18,  17,\n",
              "        19,  67,  51,  41,  35,  49,  36,  23])"
            ]
          },
          "metadata": {},
          "execution_count": 22
        }
      ]
    },
    {
      "cell_type": "code",
      "source": [
        "df1['Ozone AQI Category'].unique()"
      ],
      "metadata": {
        "colab": {
          "base_uri": "https://localhost:8080/"
        },
        "id": "B062cz1fCzQ9",
        "outputId": "57826a74-3b7b-4f54-e5ce-519bfcca0b14"
      },
      "execution_count": 23,
      "outputs": [
        {
          "output_type": "execute_result",
          "data": {
            "text/plain": [
              "array(['Good', 'Moderate', 'Unhealthy for Sensitive Groups', 'Unhealthy',\n",
              "       'Very Unhealthy'], dtype=object)"
            ]
          },
          "metadata": {},
          "execution_count": 23
        }
      ]
    },
    {
      "cell_type": "code",
      "source": [
        "df1['Ozone AQI Value'].unique()"
      ],
      "metadata": {
        "colab": {
          "base_uri": "https://localhost:8080/"
        },
        "id": "Ec9Xu8LcEnOF",
        "outputId": "48bc5404-60d6-43b5-f98a-60c1d2dd5c44"
      },
      "execution_count": 24,
      "outputs": [
        {
          "output_type": "execute_result",
          "data": {
            "text/plain": [
              "array([ 36,   5,  39,  34,  22,  14,  35,  29,  41,  89,  68,  24, 139,\n",
              "        50,  46,  30, 100,  47,   4,  71,  28,  10,  95,   0,  16,  37,\n",
              "        31,  15,   9,  18,  19,  20,  32,   7,  64,  23, 162,  25,  81,\n",
              "        26,  40,  17,  33,   3,  38,  11,  99, 203,  43,  82,   2,  44,\n",
              "       150, 113,  13,  42,  48,   8, 168,  27,  12, 167,  92,  61,   6,\n",
              "       155, 138, 109,  45,  53,  69,  49,  65, 125,  52,  66,  21, 198,\n",
              "       107,   1, 117,  57, 170, 119,  90, 179,  60, 111, 152,  62, 133,\n",
              "        98, 145, 136, 159, 153,  91,  51, 192, 172,  73, 207,  59, 169,\n",
              "        74, 130,  78,  54, 116, 124,  79, 135, 201,  75, 178, 134, 164,\n",
              "       108,  55, 190, 123, 176, 151, 206, 106, 157, 183, 163, 110, 102,\n",
              "        84, 103, 129,  56,  63,  72, 146,  70, 148, 200,  85, 144,  58,\n",
              "        86, 142,  88, 154, 140, 137,  76,  87, 180,  67,  83, 166, 188,\n",
              "       156, 177, 115, 173, 143, 182,  80, 191, 160, 181, 171,  77, 101,\n",
              "       141,  97, 165, 202,  96, 147, 118, 161, 131, 187, 121, 205, 112,\n",
              "       158,  93, 126, 175, 114, 149,  94, 127, 128, 104, 186, 174, 210,\n",
              "       120, 122, 189, 195, 193, 197, 184, 199, 196, 132, 204, 222, 105,\n",
              "       185, 209, 194, 235, 214])"
            ]
          },
          "metadata": {},
          "execution_count": 24
        }
      ]
    },
    {
      "cell_type": "code",
      "source": [
        "df1['NO2 AQI Category'].unique()"
      ],
      "metadata": {
        "colab": {
          "base_uri": "https://localhost:8080/"
        },
        "id": "b2XXaA2LDFjd",
        "outputId": "1337a36f-1091-4aaa-8ba2-c12d53d076dc"
      },
      "execution_count": 25,
      "outputs": [
        {
          "output_type": "execute_result",
          "data": {
            "text/plain": [
              "array(['Good', 'Moderate'], dtype=object)"
            ]
          },
          "metadata": {},
          "execution_count": 25
        }
      ]
    },
    {
      "cell_type": "code",
      "source": [
        "df1['NO2 AQI Value'].unique()"
      ],
      "metadata": {
        "colab": {
          "base_uri": "https://localhost:8080/"
        },
        "id": "RIPG-JRuEry1",
        "outputId": "9342b390-b598-4357-8e29-4a72f6461b78"
      },
      "execution_count": 26,
      "outputs": [
        {
          "output_type": "execute_result",
          "data": {
            "text/plain": [
              "array([ 0,  1,  2, 11,  3,  7,  9,  6,  4, 23, 13, 15,  5,  8, 24, 20, 10,\n",
              "       19, 36, 22, 16, 21, 12, 18, 25, 26, 14, 27, 17, 37, 28, 33, 31, 52,\n",
              "       44, 91, 30, 34, 29, 38, 47, 59, 40, 35, 69, 42, 39, 51, 53, 49, 41,\n",
              "       32, 46, 61, 48, 63, 58, 64, 43])"
            ]
          },
          "metadata": {},
          "execution_count": 26
        }
      ]
    },
    {
      "cell_type": "code",
      "source": [
        "df1['PM2.5 AQI Category'].unique()"
      ],
      "metadata": {
        "colab": {
          "base_uri": "https://localhost:8080/"
        },
        "id": "rTHNWQlMDPg-",
        "outputId": "8519cfa5-9db4-419d-eaee-41e349c77457"
      },
      "execution_count": 27,
      "outputs": [
        {
          "output_type": "execute_result",
          "data": {
            "text/plain": [
              "array(['Moderate', 'Good', 'Unhealthy for Sensitive Groups', 'Unhealthy',\n",
              "       'Very Unhealthy', 'Hazardous'], dtype=object)"
            ]
          },
          "metadata": {},
          "execution_count": 27
        }
      ]
    },
    {
      "cell_type": "code",
      "source": [
        "df1['PM2.5 AQI Value'].unique()"
      ],
      "metadata": {
        "colab": {
          "base_uri": "https://localhost:8080/"
        },
        "id": "w1TmaldrEwVT",
        "outputId": "b9679fd5-95e9-4fbe-b593-491169f13451"
      },
      "execution_count": 28,
      "outputs": [
        {
          "output_type": "execute_result",
          "data": {
            "text/plain": [
              "array([ 51,  41,  66,  20,   6,  54,  62,  64, 142,  58, 158,  83,  59,\n",
              "       154,  55,  72, 161,  28, 118,  33, 150,  81,  67,  17,  56,  77,\n",
              "        44,  30,  15,  79,  34,  61,  32,  25, 247,  45,  36, 124, 157,\n",
              "        60, 153,  22,  47,  37,  89,  52,  13,  88,  42, 189,  49, 151,\n",
              "        35,  90,  48,  73, 170, 155,  46, 172,  38, 105,  21,  29, 166,\n",
              "        27,  23,  31, 156, 133,   7,  50,  65,  53,  57, 107,  80, 163,\n",
              "       126,  63,  86,  78, 112, 121, 160, 144,  69,  84,  10,  75,  99,\n",
              "        98, 103, 307, 102, 115,  40, 127,  82,  92,  43, 143, 187, 188,\n",
              "       139, 145,  76, 104,  19,  39,  97, 194,  26,  70, 466, 380, 222,\n",
              "       182,  68, 171,  91,  71,  11,  16, 152,  93,  24, 132, 202, 167,\n",
              "        18,  94, 101,  74, 391,  12, 208, 122, 260, 193, 284, 191, 226,\n",
              "        14, 464,  95, 190, 292, 173, 198, 175, 500, 169, 120, 129, 100,\n",
              "       176, 164, 117, 119, 180, 362, 184, 443,   5, 125, 376, 108, 230,\n",
              "         9, 335, 159, 493, 174, 162, 130, 478, 146,   3, 106, 140, 326,\n",
              "       138, 195, 197, 356, 186, 185, 435, 168, 109, 213, 265,  87,  85,\n",
              "       114, 364, 386, 148, 110, 111, 400, 179, 301, 217, 323, 333, 209,\n",
              "       426, 354, 291, 192, 149, 165, 128,   8, 264, 116, 218, 141, 178,\n",
              "       113, 137, 415,  96, 123, 235, 201, 134, 437, 204, 210, 279, 131,\n",
              "       196, 199, 181, 433, 236, 183, 224, 283,   4, 467, 297, 240, 372,\n",
              "       378, 296, 295, 239, 276, 241, 480, 334, 271, 211, 214, 228,   2,\n",
              "       135, 305, 242, 308, 219, 238, 244, 205, 136, 147, 232, 328, 207,\n",
              "       320, 332, 225, 220, 177, 396, 281, 212, 233, 254, 446, 248, 324,\n",
              "       461, 275, 245, 221, 479, 249, 280, 412, 420, 298, 476, 321, 227,\n",
              "       274, 374, 470, 329, 384, 492, 358, 286, 416, 496, 282, 277, 234,\n",
              "       331, 206, 353, 441, 256, 311, 231, 370, 216, 428, 481, 268, 361,\n",
              "       490, 229, 319, 382, 215, 339, 457, 285, 269, 454, 477, 266, 472,\n",
              "       310, 450, 474, 327, 379, 403, 223, 325, 471, 460, 246, 203, 259,\n",
              "       250, 257, 255, 341, 350, 252, 411, 300, 383, 355, 263, 487, 456,\n",
              "       243, 237, 200, 442, 270, 424, 398,   0, 392, 452, 267, 494, 262,\n",
              "       475, 369, 251, 407, 447, 253])"
            ]
          },
          "metadata": {},
          "execution_count": 28
        }
      ]
    },
    {
      "cell_type": "code",
      "source": [
        "df1['AQI Category'].unique()"
      ],
      "metadata": {
        "colab": {
          "base_uri": "https://localhost:8080/"
        },
        "id": "QIshSC0fDbgh",
        "outputId": "9000aedc-bf82-499f-8765-edc5fb8b5910"
      },
      "execution_count": 29,
      "outputs": [
        {
          "output_type": "execute_result",
          "data": {
            "text/plain": [
              "array(['Moderate', 'Good', 'Unhealthy for Sensitive Groups', 'Unhealthy',\n",
              "       'Very Unhealthy', 'Hazardous'], dtype=object)"
            ]
          },
          "metadata": {},
          "execution_count": 29
        }
      ]
    },
    {
      "cell_type": "code",
      "source": [
        "df1['AQI Value'].unique()"
      ],
      "metadata": {
        "colab": {
          "base_uri": "https://localhost:8080/"
        },
        "id": "mtyCes_KE0cv",
        "outputId": "dbbc5b7d-4d42-4f01-cef5-f5782ecf5085"
      },
      "execution_count": 30,
      "outputs": [
        {
          "output_type": "execute_result",
          "data": {
            "text/plain": [
              "array([ 51,  41,  66,  34,  22,  54,  62,  64, 142,  68, 158,  83,  59,\n",
              "       154,  55,  72, 161,  28, 118,  33, 150,  81,  67,  31,  56,  77,\n",
              "        44,  30,  79,  61,  32,  29, 247,  45,  36, 124, 157,  60, 153,\n",
              "        47,  37,  58,  89,  52,  38,  88,  42, 189,  49, 203,  35,  90,\n",
              "        48,  19,  73, 170, 155,  46, 172,  21, 166,  27,  23, 168,  40,\n",
              "       133,  50,  25,  65,  53,  57, 167,  80, 163, 126,  63,  86,  78,\n",
              "       112, 121, 160, 144,  69,  84,  20,  75,  98, 103, 307, 151, 102,\n",
              "       115,  17, 127, 125,  92, 143, 187, 156, 105, 198, 139, 145,  13,\n",
              "        26, 107,  76, 104,  39,  97, 194,  70, 500, 380, 222, 117, 182,\n",
              "       171,  91,  71,  24, 152,  93, 132, 179, 202,  94, 101,  74, 444,\n",
              "        18, 208, 122, 303, 193, 356, 191, 226,  16,  43,  95, 190, 292,\n",
              "       173,   6, 175, 169, 120,  12, 129, 192, 100, 176, 164, 119, 180,\n",
              "       434, 184, 207, 138, 108, 230, 390, 159, 116, 174, 162, 130, 135,\n",
              "       201,  14, 178, 106, 140, 334, 195, 197, 409, 186, 185,  15,  82,\n",
              "       109, 213, 265, 206,  87,  85, 114,  99, 183, 148, 110, 111, 467,\n",
              "       301, 217, 417, 452, 209, 291, 200, 149, 165, 128, 264, 218, 141,\n",
              "       113, 137, 421,  96, 123, 235, 134, 204, 210, 279, 131, 196, 199,\n",
              "       181, 188, 236, 224, 283, 146, 297, 240, 177, 376, 295, 260, 276,\n",
              "       241,  11, 459, 316, 229, 214, 228, 375, 300, 308, 219, 238, 147,\n",
              "       244,  10, 205, 136, 232, 443, 320, 332, 225, 220, 281, 211, 212,\n",
              "       233, 254, 248, 324, 290, 275, 221, 249, 242, 305, 323, 216,   9,\n",
              "       321, 227, 274, 472, 329, 383, 384, 358, 435, 362, 353,   7, 355,\n",
              "       277, 234, 377, 405, 256, 311, 245, 231, 457, 373, 304, 386, 398,\n",
              "       296, 352, 469, 271, 215, 431, 439, 326, 481, 285, 269, 263, 266,\n",
              "       365, 302, 425,   8, 372, 223, 325, 328, 259, 246, 250, 257, 255,\n",
              "       348, 394, 252, 239, 310, 438, 447, 427, 360, 243, 237, 270, 268,\n",
              "       392, 437, 371, 267, 262, 497, 251, 464, 253])"
            ]
          },
          "metadata": {},
          "execution_count": 30
        }
      ]
    },
    {
      "cell_type": "code",
      "source": [
        "#lets find out if thre is any missing data if there is replce with null value or 0\n",
        "len(df1.loc[df1['AQI_Value']==' ']),\n",
        "len(df1.loc[df1['AQI_Category']==' '])\n",
        "len(df1.loc[df1['CO_AQI_Category']==' '])\n",
        "len(df1.loc[df1['CO_AQI_Value']==' '])\n",
        "len(df1.loc[df1['NO2_AQI_Value']==' '])\n",
        "len(df1.loc[df1['NO2_AQI_Category']==' '])\n",
        "len(df1.loc[df1['Ozone_AQI_Category']==' '])\n",
        "len(df1.loc[df1['Ozone_AQI_Value']==' '])\n",
        "\n",
        "len(df1.loc[df1['PM2.5_AQI_Category']==' '])\n",
        "len(df1.loc[df1['PM2.5_AQI_Value']==' '])\n",
        "\n",
        "\n",
        "\n",
        "\n",
        "\n"
      ],
      "metadata": {
        "colab": {
          "base_uri": "https://localhost:8080/"
        },
        "id": "Wmx2I2AHDqsm",
        "outputId": "2bbfb558-53f1-4622-9cf5-e882c65cc29c"
      },
      "execution_count": 36,
      "outputs": [
        {
          "output_type": "execute_result",
          "data": {
            "text/plain": [
              "0"
            ]
          },
          "metadata": {},
          "execution_count": 36
        }
      ]
    },
    {
      "cell_type": "markdown",
      "source": [
        "there is no missing data in the dataframe (d1)"
      ],
      "metadata": {
        "id": "M4S_hr3Ocdoq"
      }
    },
    {
      "cell_type": "code",
      "source": [
        "df1.columns = df1.columns.str.replace(' ', '_')\n"
      ],
      "metadata": {
        "id": "HxcxZeY5Fohy"
      },
      "execution_count": 34,
      "outputs": []
    },
    {
      "cell_type": "code",
      "source": [
        "df1.columns"
      ],
      "metadata": {
        "colab": {
          "base_uri": "https://localhost:8080/"
        },
        "id": "G02RnNd4GHTp",
        "outputId": "639589e4-52e1-4d5a-e0d7-130c6a17b5d8"
      },
      "execution_count": 37,
      "outputs": [
        {
          "output_type": "execute_result",
          "data": {
            "text/plain": [
              "Index(['AQI_Value', 'AQI_Category', 'CO_AQI_Value', 'CO_AQI_Category',\n",
              "       'Ozone_AQI_Value', 'Ozone_AQI_Category', 'NO2_AQI_Value',\n",
              "       'NO2_AQI_Category', 'PM2.5_AQI_Value', 'PM2.5_AQI_Category'],\n",
              "      dtype='object')"
            ]
          },
          "metadata": {},
          "execution_count": 37
        }
      ]
    },
    {
      "cell_type": "code",
      "source": [
        "df1['AQI_Category'] = df1['AQI_Category'].replace(['Moderate', 'Good', 'Unhealthy for Sensitive Groups', 'Unhealthy',\n",
        "       'Very Unhealthy', 'Hazardous'], ['2','1','3','4','5','6'])\n",
        "#replacing the values with a number \n",
        "df1['CO_AQI_Category'] = df1['CO_AQI_Category'].replace(['Moderate', 'Good', 'Unhealthy for Sensitive Groups', 'Unhealthy',\n",
        "       'Very Unhealthy', 'Hazardous'], ['2','1','3','4','5','6'])\n",
        "df1['NO2_AQI_Category'] = df1['NO2_AQI_Category'].replace(['Moderate', 'Good', 'Unhealthy for Sensitive Groups', 'Unhealthy',\n",
        "       'Very Unhealthy', 'Hazardous'], ['2','1','3','4','5','6'])\n",
        "df1['Ozone_AQI_Category'] = df1['Ozone_AQI_Category'].replace(['Moderate', 'Good', 'Unhealthy for Sensitive Groups', 'Unhealthy',\n",
        "       'Very Unhealthy', 'Hazardous'], ['2','1','3','4','5','6'])\n",
        "df1['PM2.5_AQI_Category'] = df1['PM2.5_AQI_Category'].replace(['Moderate', 'Good', 'Unhealthy for Sensitive Groups', 'Unhealthy',\n",
        "       'Very Unhealthy', 'Hazardous'], ['2','1','3','4','5','6'])\n"
      ],
      "metadata": {
        "id": "XaEBHHHVGc6A"
      },
      "execution_count": 38,
      "outputs": []
    },
    {
      "cell_type": "markdown",
      "source": [
        "###category columns are object data type in XGBoost it only allows int,float or boolean data type since, I am converting the object value in to numeric()\n",
        "\n",
        "values are like 'Moderate', 'Good', 'Unhealthy for Sensitive Groups', 'Unhealthy','Very Unhealthy', 'Hazardous'\n",
        "\n",
        "replacing these values with \n",
        "Good(1)\n",
        "MOderate(2)\n",
        "Unhealhty for sensitive groups(3)\n",
        "Unhealthy(4)\n",
        "very unhealthy(5)\n",
        "Hazordous(6)"
      ],
      "metadata": {
        "id": "vSGz23_SdTqO"
      }
    },
    {
      "cell_type": "markdown",
      "source": [],
      "metadata": {
        "id": "blUhS3AodRSL"
      }
    },
    {
      "cell_type": "code",
      "source": [
        "df1.head()"
      ],
      "metadata": {
        "id": "WgxwkM3bg5Ca",
        "colab": {
          "base_uri": "https://localhost:8080/",
          "height": 270
        },
        "outputId": "32eabb73-1668-4772-acf7-6324154c98df"
      },
      "execution_count": 39,
      "outputs": [
        {
          "output_type": "execute_result",
          "data": {
            "text/plain": [
              "   AQI_Value AQI_Category  CO_AQI_Value CO_AQI_Category  Ozone_AQI_Value  \\\n",
              "0         51            2             1               1               36   \n",
              "1         41            1             1               1                5   \n",
              "2         66            2             1               1               39   \n",
              "3         34            1             1               1               34   \n",
              "4         22            1             0               1               22   \n",
              "\n",
              "  Ozone_AQI_Category  NO2_AQI_Value NO2_AQI_Category  PM2.5_AQI_Value  \\\n",
              "0                  1              0                1               51   \n",
              "1                  1              1                1               41   \n",
              "2                  1              2                1               66   \n",
              "3                  1              0                1               20   \n",
              "4                  1              0                1                6   \n",
              "\n",
              "  PM2.5_AQI_Category  \n",
              "0                  2  \n",
              "1                  1  \n",
              "2                  2  \n",
              "3                  1  \n",
              "4                  1  "
            ],
            "text/html": [
              "\n",
              "  <div id=\"df-00e668cb-1dc5-4059-a780-c8cf42694e94\">\n",
              "    <div class=\"colab-df-container\">\n",
              "      <div>\n",
              "<style scoped>\n",
              "    .dataframe tbody tr th:only-of-type {\n",
              "        vertical-align: middle;\n",
              "    }\n",
              "\n",
              "    .dataframe tbody tr th {\n",
              "        vertical-align: top;\n",
              "    }\n",
              "\n",
              "    .dataframe thead th {\n",
              "        text-align: right;\n",
              "    }\n",
              "</style>\n",
              "<table border=\"1\" class=\"dataframe\">\n",
              "  <thead>\n",
              "    <tr style=\"text-align: right;\">\n",
              "      <th></th>\n",
              "      <th>AQI_Value</th>\n",
              "      <th>AQI_Category</th>\n",
              "      <th>CO_AQI_Value</th>\n",
              "      <th>CO_AQI_Category</th>\n",
              "      <th>Ozone_AQI_Value</th>\n",
              "      <th>Ozone_AQI_Category</th>\n",
              "      <th>NO2_AQI_Value</th>\n",
              "      <th>NO2_AQI_Category</th>\n",
              "      <th>PM2.5_AQI_Value</th>\n",
              "      <th>PM2.5_AQI_Category</th>\n",
              "    </tr>\n",
              "  </thead>\n",
              "  <tbody>\n",
              "    <tr>\n",
              "      <th>0</th>\n",
              "      <td>51</td>\n",
              "      <td>2</td>\n",
              "      <td>1</td>\n",
              "      <td>1</td>\n",
              "      <td>36</td>\n",
              "      <td>1</td>\n",
              "      <td>0</td>\n",
              "      <td>1</td>\n",
              "      <td>51</td>\n",
              "      <td>2</td>\n",
              "    </tr>\n",
              "    <tr>\n",
              "      <th>1</th>\n",
              "      <td>41</td>\n",
              "      <td>1</td>\n",
              "      <td>1</td>\n",
              "      <td>1</td>\n",
              "      <td>5</td>\n",
              "      <td>1</td>\n",
              "      <td>1</td>\n",
              "      <td>1</td>\n",
              "      <td>41</td>\n",
              "      <td>1</td>\n",
              "    </tr>\n",
              "    <tr>\n",
              "      <th>2</th>\n",
              "      <td>66</td>\n",
              "      <td>2</td>\n",
              "      <td>1</td>\n",
              "      <td>1</td>\n",
              "      <td>39</td>\n",
              "      <td>1</td>\n",
              "      <td>2</td>\n",
              "      <td>1</td>\n",
              "      <td>66</td>\n",
              "      <td>2</td>\n",
              "    </tr>\n",
              "    <tr>\n",
              "      <th>3</th>\n",
              "      <td>34</td>\n",
              "      <td>1</td>\n",
              "      <td>1</td>\n",
              "      <td>1</td>\n",
              "      <td>34</td>\n",
              "      <td>1</td>\n",
              "      <td>0</td>\n",
              "      <td>1</td>\n",
              "      <td>20</td>\n",
              "      <td>1</td>\n",
              "    </tr>\n",
              "    <tr>\n",
              "      <th>4</th>\n",
              "      <td>22</td>\n",
              "      <td>1</td>\n",
              "      <td>0</td>\n",
              "      <td>1</td>\n",
              "      <td>22</td>\n",
              "      <td>1</td>\n",
              "      <td>0</td>\n",
              "      <td>1</td>\n",
              "      <td>6</td>\n",
              "      <td>1</td>\n",
              "    </tr>\n",
              "  </tbody>\n",
              "</table>\n",
              "</div>\n",
              "      <button class=\"colab-df-convert\" onclick=\"convertToInteractive('df-00e668cb-1dc5-4059-a780-c8cf42694e94')\"\n",
              "              title=\"Convert this dataframe to an interactive table.\"\n",
              "              style=\"display:none;\">\n",
              "        \n",
              "  <svg xmlns=\"http://www.w3.org/2000/svg\" height=\"24px\"viewBox=\"0 0 24 24\"\n",
              "       width=\"24px\">\n",
              "    <path d=\"M0 0h24v24H0V0z\" fill=\"none\"/>\n",
              "    <path d=\"M18.56 5.44l.94 2.06.94-2.06 2.06-.94-2.06-.94-.94-2.06-.94 2.06-2.06.94zm-11 1L8.5 8.5l.94-2.06 2.06-.94-2.06-.94L8.5 2.5l-.94 2.06-2.06.94zm10 10l.94 2.06.94-2.06 2.06-.94-2.06-.94-.94-2.06-.94 2.06-2.06.94z\"/><path d=\"M17.41 7.96l-1.37-1.37c-.4-.4-.92-.59-1.43-.59-.52 0-1.04.2-1.43.59L10.3 9.45l-7.72 7.72c-.78.78-.78 2.05 0 2.83L4 21.41c.39.39.9.59 1.41.59.51 0 1.02-.2 1.41-.59l7.78-7.78 2.81-2.81c.8-.78.8-2.07 0-2.86zM5.41 20L4 18.59l7.72-7.72 1.47 1.35L5.41 20z\"/>\n",
              "  </svg>\n",
              "      </button>\n",
              "      \n",
              "  <style>\n",
              "    .colab-df-container {\n",
              "      display:flex;\n",
              "      flex-wrap:wrap;\n",
              "      gap: 12px;\n",
              "    }\n",
              "\n",
              "    .colab-df-convert {\n",
              "      background-color: #E8F0FE;\n",
              "      border: none;\n",
              "      border-radius: 50%;\n",
              "      cursor: pointer;\n",
              "      display: none;\n",
              "      fill: #1967D2;\n",
              "      height: 32px;\n",
              "      padding: 0 0 0 0;\n",
              "      width: 32px;\n",
              "    }\n",
              "\n",
              "    .colab-df-convert:hover {\n",
              "      background-color: #E2EBFA;\n",
              "      box-shadow: 0px 1px 2px rgba(60, 64, 67, 0.3), 0px 1px 3px 1px rgba(60, 64, 67, 0.15);\n",
              "      fill: #174EA6;\n",
              "    }\n",
              "\n",
              "    [theme=dark] .colab-df-convert {\n",
              "      background-color: #3B4455;\n",
              "      fill: #D2E3FC;\n",
              "    }\n",
              "\n",
              "    [theme=dark] .colab-df-convert:hover {\n",
              "      background-color: #434B5C;\n",
              "      box-shadow: 0px 1px 3px 1px rgba(0, 0, 0, 0.15);\n",
              "      filter: drop-shadow(0px 1px 2px rgba(0, 0, 0, 0.3));\n",
              "      fill: #FFFFFF;\n",
              "    }\n",
              "  </style>\n",
              "\n",
              "      <script>\n",
              "        const buttonEl =\n",
              "          document.querySelector('#df-00e668cb-1dc5-4059-a780-c8cf42694e94 button.colab-df-convert');\n",
              "        buttonEl.style.display =\n",
              "          google.colab.kernel.accessAllowed ? 'block' : 'none';\n",
              "\n",
              "        async function convertToInteractive(key) {\n",
              "          const element = document.querySelector('#df-00e668cb-1dc5-4059-a780-c8cf42694e94');\n",
              "          const dataTable =\n",
              "            await google.colab.kernel.invokeFunction('convertToInteractive',\n",
              "                                                     [key], {});\n",
              "          if (!dataTable) return;\n",
              "\n",
              "          const docLinkHtml = 'Like what you see? Visit the ' +\n",
              "            '<a target=\"_blank\" href=https://colab.research.google.com/notebooks/data_table.ipynb>data table notebook</a>'\n",
              "            + ' to learn more about interactive tables.';\n",
              "          element.innerHTML = '';\n",
              "          dataTable['output_type'] = 'display_data';\n",
              "          await google.colab.output.renderOutput(dataTable, element);\n",
              "          const docLink = document.createElement('div');\n",
              "          docLink.innerHTML = docLinkHtml;\n",
              "          element.appendChild(docLink);\n",
              "        }\n",
              "      </script>\n",
              "    </div>\n",
              "  </div>\n",
              "  "
            ]
          },
          "metadata": {},
          "execution_count": 39
        }
      ]
    },
    {
      "cell_type": "markdown",
      "source": [],
      "metadata": {
        "id": "4Sk_tuxrdJyS"
      }
    }
  ]
}